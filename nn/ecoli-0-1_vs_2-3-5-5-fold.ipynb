{
 "cells": [
  {
   "cell_type": "code",
   "execution_count": 2,
   "metadata": {
    "collapsed": true
   },
   "outputs": [],
   "source": [
    "import Classify"
   ]
  },
  {
   "cell_type": "code",
   "execution_count": 3,
   "metadata": {
    "collapsed": true
   },
   "outputs": [],
   "source": [
    "import numpy as np"
   ]
  },
  {
   "cell_type": "code",
   "execution_count": 25,
   "metadata": {
    "collapsed": true
   },
   "outputs": [],
   "source": [
    "n=np.arange(0.00,1.01,0.05)"
   ]
  },
  {
   "cell_type": "code",
   "execution_count": null,
   "metadata": {
    "collapsed": true
   },
   "outputs": [],
   "source": []
  },
  {
   "cell_type": "code",
   "execution_count": 26,
   "metadata": {},
   "outputs": [
    {
     "name": "stdout",
     "output_type": "stream",
     "text": [
      "leaf purity:  0.0\n",
      "without oversampling:  0.9897959183673469\n",
      "\n",
      "Oversampling on:\n",
      "\n",
      "Minority class:   positive\n",
      "(156, 8)\n",
      "Y shape: (196,)\n",
      "with oversampling:  0.9081632653061225\n",
      "-----------------------------------\n",
      "leaf purity:  0.05\n",
      "without oversampling:  0.9897959183673469\n",
      "\n",
      "Oversampling on:\n",
      "\n",
      "Minority class:   positive\n",
      "(156, 8)\n",
      "Y shape: (196,)\n",
      "with oversampling:  0.9081632653061225\n",
      "-----------------------------------\n",
      "leaf purity:  0.1\n",
      "without oversampling:  0.9897959183673469\n",
      "\n",
      "Oversampling on:\n",
      "\n",
      "Minority class:   positive\n",
      "(156, 8)\n",
      "Y shape: (196,)\n",
      "with oversampling:  0.9081632653061225\n",
      "-----------------------------------\n",
      "leaf purity:  0.15\n",
      "without oversampling:  0.9897959183673469\n",
      "\n",
      "Oversampling on:\n",
      "\n",
      "Minority class:   positive\n",
      "(155, 8)\n",
      "Y shape: (196,)\n",
      "with oversampling:  0.9081632653061225\n",
      "-----------------------------------\n",
      "leaf purity:  0.2\n",
      "without oversampling:  0.9897959183673469\n",
      "\n",
      "Oversampling on:\n",
      "\n",
      "Minority class:   positive\n",
      "(155, 8)\n",
      "Y shape: (196,)\n",
      "with oversampling:  0.9081632653061225\n",
      "-----------------------------------\n",
      "leaf purity:  0.25\n",
      "without oversampling:  0.9897959183673469\n",
      "\n",
      "Oversampling on:\n",
      "\n",
      "Minority class:   positive\n",
      "(155, 8)\n",
      "Y shape: (196,)\n",
      "with oversampling:  0.9081632653061225\n",
      "-----------------------------------\n",
      "leaf purity:  0.3\n",
      "without oversampling:  0.9897959183673469\n",
      "\n",
      "Oversampling on:\n",
      "\n",
      "Minority class:   positive\n",
      "(155, 8)\n",
      "Y shape: (196,)\n",
      "with oversampling:  0.9081632653061225\n",
      "-----------------------------------\n",
      "leaf purity:  0.35\n",
      "without oversampling:  0.9897959183673469\n",
      "\n",
      "Oversampling on:\n",
      "\n",
      "Minority class:   positive\n",
      "(155, 8)\n",
      "Y shape: (196,)\n",
      "with oversampling:  0.9081632653061225\n",
      "-----------------------------------\n",
      "leaf purity:  0.4\n",
      "without oversampling:  0.9897959183673469\n",
      "\n",
      "Oversampling on:\n",
      "\n",
      "Minority class:   positive\n",
      "(155, 8)\n",
      "Y shape: (196,)\n",
      "with oversampling:  0.9081632653061225\n",
      "-----------------------------------\n",
      "leaf purity:  0.45\n",
      "without oversampling:  0.9897959183673469\n",
      "\n",
      "Oversampling on:\n",
      "\n",
      "Minority class:   positive\n",
      "(155, 8)\n",
      "Y shape: (196,)\n",
      "with oversampling:  0.9081632653061225\n",
      "-----------------------------------\n",
      "leaf purity:  0.5\n",
      "without oversampling:  0.9897959183673469\n",
      "\n",
      "Oversampling on:\n",
      "\n",
      "Minority class:   positive\n",
      "(155, 8)\n",
      "Y shape: (196,)\n",
      "with oversampling:  0.9081632653061225\n",
      "-----------------------------------\n",
      "leaf purity:  0.55\n",
      "without oversampling:  0.9897959183673469\n",
      "\n",
      "Oversampling on:\n",
      "\n",
      "Minority class:   positive\n",
      "(155, 8)\n",
      "Y shape: (196,)\n",
      "with oversampling:  0.9081632653061225\n",
      "-----------------------------------\n",
      "leaf purity:  0.6\n",
      "without oversampling:  0.9897959183673469\n",
      "\n",
      "Oversampling on:\n",
      "\n",
      "Minority class:   positive\n",
      "(155, 8)\n",
      "Y shape: (196,)\n",
      "with oversampling:  0.9081632653061225\n",
      "-----------------------------------\n",
      "leaf purity:  0.65\n",
      "without oversampling:  0.9897959183673469\n",
      "\n",
      "Oversampling on:\n",
      "\n",
      "Minority class:   positive\n",
      "(155, 8)\n",
      "Y shape: (196,)\n",
      "with oversampling:  0.9081632653061225\n",
      "-----------------------------------\n",
      "leaf purity:  0.7\n",
      "without oversampling:  0.9897959183673469\n",
      "\n",
      "Oversampling on:\n",
      "\n",
      "Minority class:   positive\n",
      "(155, 8)\n",
      "Y shape: (196,)\n",
      "with oversampling:  0.9081632653061225\n",
      "-----------------------------------\n",
      "leaf purity:  0.75\n",
      "without oversampling:  0.9897959183673469\n",
      "\n",
      "Oversampling on:\n",
      "\n",
      "Minority class:   positive\n",
      "(155, 8)\n",
      "Y shape: (196,)\n",
      "with oversampling:  0.9081632653061225\n",
      "-----------------------------------\n",
      "leaf purity:  0.8\n",
      "without oversampling:  0.9897959183673469\n",
      "\n",
      "Oversampling on:\n",
      "\n",
      "Minority class:   positive\n",
      "(155, 8)\n",
      "Y shape: (196,)\n",
      "with oversampling:  0.9081632653061225\n",
      "-----------------------------------\n",
      "leaf purity:  0.85\n",
      "without oversampling:  0.9897959183673469\n",
      "\n",
      "Oversampling on:\n",
      "\n",
      "Minority class:   positive\n",
      "(155, 8)\n",
      "Y shape: (196,)\n",
      "with oversampling:  0.9081632653061225\n",
      "-----------------------------------\n",
      "leaf purity:  0.9\n",
      "without oversampling:  0.9897959183673469\n",
      "\n",
      "Oversampling on:\n",
      "\n",
      "Minority class:   positive\n",
      "(155, 8)\n",
      "Y shape: (196,)\n",
      "with oversampling:  0.9081632653061225\n",
      "-----------------------------------\n",
      "leaf purity:  0.95\n",
      "without oversampling:  0.9897959183673469\n",
      "\n",
      "Oversampling on:\n",
      "\n",
      "Minority class:   positive\n",
      "(155, 8)\n",
      "Y shape: (196,)\n",
      "with oversampling:  0.9081632653061225\n",
      "-----------------------------------\n",
      "leaf purity:  1.0\n",
      "without oversampling:  0.9897959183673469\n",
      "\n",
      "Oversampling on:\n",
      "\n",
      "Minority class:   positive\n",
      "(155, 8)\n",
      "Y shape: (196,)\n",
      "with oversampling:  0.9081632653061225\n",
      "-----------------------------------\n"
     ]
    }
   ],
   "source": [
    "for i in range(len(n)):\n",
    "    \n",
    "    n[i]=round(n[i],2)\n",
    "    print('leaf purity: ',n[i])\n",
    "    pred=Classify.Classify('../NonSMOTE/NonSMOTE/ecoli-0-1_vs_2-3-5/ecoli-0-1_vs_2-3-5-5-fold/','ecoli-0-1_vs_2-3-5-5-5tra.dat',\\\n",
    "                         'ecoli-0-1_vs_2-3-5-5-5tra.dat',False,n[i])\n",
    "    print('-----------------------------------')"
   ]
  },
  {
   "cell_type": "code",
   "execution_count": 27,
   "metadata": {
    "collapsed": true
   },
   "outputs": [],
   "source": [
    "a=[' pos',' pos',' pos',' pos',' pos',' pos',' neg',' neg',' neg',' neg',' neg',]"
   ]
  },
  {
   "cell_type": "code",
   "execution_count": 28,
   "metadata": {
    "collapsed": true
   },
   "outputs": [],
   "source": [
    "cls=np.unique(a,return_counts=True)"
   ]
  },
  {
   "cell_type": "code",
   "execution_count": 29,
   "metadata": {},
   "outputs": [
    {
     "data": {
      "text/plain": [
       "array([' neg', ' pos'], dtype='<U4')"
      ]
     },
     "execution_count": 29,
     "metadata": {},
     "output_type": "execute_result"
    }
   ],
   "source": [
    "cls[0]"
   ]
  },
  {
   "cell_type": "code",
   "execution_count": 30,
   "metadata": {},
   "outputs": [
    {
     "data": {
      "text/plain": [
       "array([5, 6], dtype=int64)"
      ]
     },
     "execution_count": 30,
     "metadata": {},
     "output_type": "execute_result"
    }
   ],
   "source": [
    "cls[1]"
   ]
  },
  {
   "cell_type": "code",
   "execution_count": 31,
   "metadata": {},
   "outputs": [
    {
     "data": {
      "text/plain": [
       "(array([' neg', ' pos'], dtype='<U4'), array([5, 6], dtype=int64))"
      ]
     },
     "execution_count": 31,
     "metadata": {},
     "output_type": "execute_result"
    }
   ],
   "source": [
    "cls"
   ]
  },
  {
   "cell_type": "code",
   "execution_count": 32,
   "metadata": {},
   "outputs": [
    {
     "name": "stdout",
     "output_type": "stream",
     "text": [
      " neg\n"
     ]
    }
   ],
   "source": [
    "if cls[1][0]<cls[1][1]:\n",
    "    print(cls[0][0])\n",
    "else:\n",
    "    print(cls[0][1])"
   ]
  },
  {
   "cell_type": "code",
   "execution_count": 33,
   "metadata": {
    "collapsed": true
   },
   "outputs": [],
   "source": [
    "a=np.array(a)"
   ]
  },
  {
   "cell_type": "code",
   "execution_count": 34,
   "metadata": {},
   "outputs": [
    {
     "data": {
      "text/plain": [
       "array([' pos', ' pos', ' pos', ' pos', ' pos', ' pos', ' neg', ' neg',\n",
       "       ' neg', ' neg', ' neg'], dtype='<U4')"
      ]
     },
     "execution_count": 34,
     "metadata": {},
     "output_type": "execute_result"
    }
   ],
   "source": [
    "a"
   ]
  },
  {
   "cell_type": "code",
   "execution_count": 35,
   "metadata": {
    "collapsed": true
   },
   "outputs": [],
   "source": [
    "pos=0\n",
    "neg=0\n",
    "\n",
    "for i in range(a.shape[0]):\n",
    "    if a[i]==' pos':\n",
    "        pos=pos+1\n",
    "    else:\n",
    "        neg=neg+1"
   ]
  },
  {
   "cell_type": "code",
   "execution_count": 36,
   "metadata": {},
   "outputs": [
    {
     "data": {
      "text/plain": [
       "6"
      ]
     },
     "execution_count": 36,
     "metadata": {},
     "output_type": "execute_result"
    }
   ],
   "source": [
    "pos"
   ]
  },
  {
   "cell_type": "code",
   "execution_count": 37,
   "metadata": {},
   "outputs": [
    {
     "data": {
      "text/plain": [
       "5"
      ]
     },
     "execution_count": 37,
     "metadata": {},
     "output_type": "execute_result"
    }
   ],
   "source": [
    "neg"
   ]
  }
 ],
 "metadata": {
  "kernelspec": {
   "display_name": "Python 3",
   "language": "python",
   "name": "python3"
  },
  "language_info": {
   "codemirror_mode": {
    "name": "ipython",
    "version": 3
   },
   "file_extension": ".py",
   "mimetype": "text/x-python",
   "name": "python",
   "nbconvert_exporter": "python",
   "pygments_lexer": "ipython3",
   "version": "3.6.6"
  }
 },
 "nbformat": 4,
 "nbformat_minor": 2
}
