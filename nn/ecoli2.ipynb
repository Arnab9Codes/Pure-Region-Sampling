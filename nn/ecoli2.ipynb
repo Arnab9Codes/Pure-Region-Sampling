{
 "cells": [
  {
   "cell_type": "code",
   "execution_count": 1,
   "metadata": {
    "collapsed": true
   },
   "outputs": [],
   "source": [
    "import Classify"
   ]
  },
  {
   "cell_type": "code",
   "execution_count": 2,
   "metadata": {
    "collapsed": true
   },
   "outputs": [],
   "source": [
    "import numpy as np"
   ]
  },
  {
   "cell_type": "code",
   "execution_count": 3,
   "metadata": {
    "collapsed": true
   },
   "outputs": [],
   "source": [
    "n=np.arange(0.00,1.01,0.05)"
   ]
  },
  {
   "cell_type": "code",
   "execution_count": null,
   "metadata": {
    "collapsed": true
   },
   "outputs": [],
   "source": []
  },
  {
   "cell_type": "code",
   "execution_count": null,
   "metadata": {},
   "outputs": [
    {
     "name": "stdout",
     "output_type": "stream",
     "text": [
      "leaf purity:  0.0\n",
      "without oversampling KNN:  0.9411764705882353\n",
      "\n",
      "Oversampling on:\n",
      "\n",
      "Minority class:   positive\n",
      "(186, 8)\n",
      "with oversampling KNN:  0.8823529411764706\n",
      "-----------------------------------\n",
      "leaf purity:  0.05\n",
      "without oversampling KNN:  0.9411764705882353\n",
      "\n",
      "Oversampling on:\n",
      "\n",
      "Minority class:   positive\n",
      "(186, 8)\n",
      "with oversampling KNN:  0.8970588235294118\n",
      "-----------------------------------\n",
      "leaf purity:  0.1\n",
      "without oversampling KNN:  0.9411764705882353\n",
      "\n",
      "Oversampling on:\n",
      "\n",
      "Minority class:   positive\n",
      "(186, 8)\n",
      "with oversampling KNN:  0.8970588235294118\n",
      "-----------------------------------\n",
      "leaf purity:  0.15\n",
      "without oversampling KNN:  0.9411764705882353\n",
      "\n",
      "Oversampling on:\n",
      "\n"
     ]
    }
   ],
   "source": [
    "for i in range(len(n)):\n",
    "    \n",
    "    n[i]=round(n[i],2)\n",
    "    print('leaf purity: ',n[i])\n",
    "    pred=Classify.Classify('../NonSMOTE/NonSMOTE/ecoli2/ecoli2-5-fold/','ecoli2-5-1tra.dat',\\\n",
    "                         'ecoli2-5-1tst.dat',False,n[i])\n",
    "    print('-----------------------------------')"
   ]
  },
  {
   "cell_type": "code",
   "execution_count": null,
   "metadata": {
    "collapsed": true
   },
   "outputs": [],
   "source": []
  },
  {
   "cell_type": "code",
   "execution_count": null,
   "metadata": {
    "collapsed": true
   },
   "outputs": [],
   "source": []
  },
  {
   "cell_type": "code",
   "execution_count": null,
   "metadata": {
    "collapsed": true
   },
   "outputs": [],
   "source": []
  }
 ],
 "metadata": {
  "kernelspec": {
   "display_name": "Python 3",
   "language": "python",
   "name": "python3"
  },
  "language_info": {
   "codemirror_mode": {
    "name": "ipython",
    "version": 3
   },
   "file_extension": ".py",
   "mimetype": "text/x-python",
   "name": "python",
   "nbconvert_exporter": "python",
   "pygments_lexer": "ipython3",
   "version": "3.6.6"
  }
 },
 "nbformat": 4,
 "nbformat_minor": 2
}
