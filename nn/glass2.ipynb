{
 "cells": [
  {
   "cell_type": "code",
   "execution_count": 1,
   "metadata": {
    "collapsed": true
   },
   "outputs": [],
   "source": [
    "import Classify"
   ]
  },
  {
   "cell_type": "code",
   "execution_count": 2,
   "metadata": {
    "collapsed": true
   },
   "outputs": [],
   "source": [
    "import numpy as np"
   ]
  },
  {
   "cell_type": "code",
   "execution_count": 3,
   "metadata": {
    "collapsed": true
   },
   "outputs": [],
   "source": [
    "n=np.arange(0.60,1.01,0.05)"
   ]
  },
  {
   "cell_type": "code",
   "execution_count": null,
   "metadata": {
    "collapsed": true
   },
   "outputs": [],
   "source": []
  },
  {
   "cell_type": "code",
   "execution_count": 4,
   "metadata": {},
   "outputs": [
    {
     "name": "stdout",
     "output_type": "stream",
     "text": [
      "leaf purity:  0.6\n",
      "without oversampling KNN:  0.7514792899408284\n",
      "\n",
      "Oversampling on:\n",
      "\n",
      "Minority class:   positive\n",
      "(336, 19)\n",
      "with oversampling KNN:  0.7041420118343196\n",
      "-----------------------------------\n",
      "leaf purity:  0.65\n",
      "without oversampling KNN:  0.7514792899408284\n",
      "\n",
      "Oversampling on:\n",
      "\n",
      "Minority class:   positive\n",
      "(336, 19)\n",
      "with oversampling KNN:  0.7041420118343196\n",
      "-----------------------------------\n",
      "leaf purity:  0.7\n",
      "without oversampling KNN:  0.7514792899408284\n",
      "\n",
      "Oversampling on:\n",
      "\n",
      "Minority class:   positive\n",
      "(336, 19)\n",
      "with oversampling KNN:  0.7041420118343196\n",
      "-----------------------------------\n",
      "leaf purity:  0.75\n",
      "without oversampling KNN:  0.7514792899408284\n",
      "\n",
      "Oversampling on:\n",
      "\n",
      "Minority class:   positive\n",
      "(336, 19)\n",
      "with oversampling KNN:  0.7041420118343196\n",
      "-----------------------------------\n",
      "leaf purity:  0.8\n",
      "without oversampling KNN:  0.7514792899408284\n",
      "\n",
      "Oversampling on:\n",
      "\n",
      "Minority class:   positive\n",
      "(336, 19)\n",
      "with oversampling KNN:  0.7041420118343196\n",
      "-----------------------------------\n",
      "leaf purity:  0.85\n",
      "without oversampling KNN:  0.7514792899408284\n",
      "\n",
      "Oversampling on:\n",
      "\n",
      "Minority class:   positive\n",
      "(320, 19)\n",
      "with oversampling KNN:  0.7041420118343196\n",
      "-----------------------------------\n",
      "leaf purity:  0.9\n",
      "without oversampling KNN:  0.7514792899408284\n",
      "\n",
      "Oversampling on:\n",
      "\n",
      "Minority class:   positive\n",
      "(320, 19)\n",
      "with oversampling KNN:  0.7041420118343196\n",
      "-----------------------------------\n",
      "leaf purity:  0.95\n",
      "without oversampling KNN:  0.7514792899408284\n",
      "\n",
      "Oversampling on:\n",
      "\n",
      "Minority class:   positive\n",
      "(320, 19)\n",
      "with oversampling KNN:  0.7041420118343196\n",
      "-----------------------------------\n",
      "leaf purity:  1.0\n",
      "without oversampling KNN:  0.7514792899408284\n",
      "\n",
      "Oversampling on:\n",
      "\n",
      "Minority class:   positive\n",
      "(320, 19)\n",
      "with oversampling KNN:  0.7041420118343196\n",
      "-----------------------------------\n"
     ]
    }
   ],
   "source": [
    "for i in range(len(n)):\n",
    "    \n",
    "    n[i]=round(n[i],2)\n",
    "    print('leaf purity: ',n[i])\n",
    "    pred=Classify.Classify('../Data_tsai/NonSMOTE/vehicle1/vehicle1-5-fold/','vehicle1-5-2tra.dat',\\\n",
    "                         'vehicle1-5-2tst.dat',False,n[i])\n",
    "    print('-----------------------------------')"
   ]
  },
  {
   "cell_type": "code",
   "execution_count": null,
   "metadata": {
    "collapsed": true
   },
   "outputs": [],
   "source": []
  }
 ],
 "metadata": {
  "kernelspec": {
   "display_name": "Python 3",
   "language": "python",
   "name": "python3"
  },
  "language_info": {
   "codemirror_mode": {
    "name": "ipython",
    "version": 3
   },
   "file_extension": ".py",
   "mimetype": "text/x-python",
   "name": "python",
   "nbconvert_exporter": "python",
   "pygments_lexer": "ipython3",
   "version": "3.6.6"
  }
 },
 "nbformat": 4,
 "nbformat_minor": 2
}
