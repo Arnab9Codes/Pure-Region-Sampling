{
 "cells": [
  {
   "cell_type": "code",
   "execution_count": 1,
   "metadata": {
    "collapsed": true
   },
   "outputs": [],
   "source": [
    "import Classify"
   ]
  },
  {
   "cell_type": "code",
   "execution_count": 2,
   "metadata": {
    "collapsed": true
   },
   "outputs": [],
   "source": [
    "import numpy as np"
   ]
  },
  {
   "cell_type": "code",
   "execution_count": 5,
   "metadata": {
    "collapsed": true
   },
   "outputs": [],
   "source": [
    "n=np.arange(0.00,1.01,0.05)"
   ]
  },
  {
   "cell_type": "code",
   "execution_count": null,
   "metadata": {
    "collapsed": true
   },
   "outputs": [],
   "source": []
  },
  {
   "cell_type": "code",
   "execution_count": 10,
   "metadata": {},
   "outputs": [
    {
     "name": "stdout",
     "output_type": "stream",
     "text": [
      "leaf purity:  0.0\n",
      "without oversampling:  0.9663299663299664\n",
      "\n",
      "Oversampling on:\n",
      "\n",
      "Minority class:   positive\n",
      "(1104, 9)\n",
      "Y shape: (1187,)\n",
      "with oversampling:  0.9663299663299664\n",
      "-----------------------------------\n",
      "leaf purity:  0.05\n",
      "without oversampling:  0.9663299663299664\n",
      "\n",
      "Oversampling on:\n",
      "\n",
      "Minority class:   positive\n",
      "(1105, 9)\n",
      "Y shape: (1187,)\n",
      "with oversampling:  0.9663299663299664\n",
      "-----------------------------------\n",
      "leaf purity:  0.1\n",
      "without oversampling:  0.9663299663299664\n",
      "\n",
      "Oversampling on:\n",
      "\n",
      "Minority class:   positive\n",
      "(1104, 9)\n",
      "Y shape: (1187,)\n",
      "with oversampling:  0.9663299663299664\n",
      "-----------------------------------\n",
      "leaf purity:  0.15\n",
      "without oversampling:  0.9663299663299664\n",
      "\n",
      "Oversampling on:\n",
      "\n",
      "Minority class:   positive\n",
      "(1104, 9)\n",
      "Y shape: (1187,)\n",
      "with oversampling:  0.9663299663299664\n",
      "-----------------------------------\n",
      "leaf purity:  0.2\n",
      "without oversampling:  0.9663299663299664\n",
      "\n",
      "Oversampling on:\n",
      "\n",
      "Minority class:   positive\n",
      "(1104, 9)\n",
      "Y shape: (1187,)\n",
      "with oversampling:  0.9663299663299664\n",
      "-----------------------------------\n",
      "leaf purity:  0.25\n",
      "without oversampling:  0.9663299663299664\n",
      "\n",
      "Oversampling on:\n",
      "\n",
      "Minority class:   positive\n",
      "(1104, 9)\n",
      "Y shape: (1187,)\n",
      "with oversampling:  0.9663299663299664\n",
      "-----------------------------------\n",
      "leaf purity:  0.3\n",
      "without oversampling:  0.9663299663299664\n",
      "\n",
      "Oversampling on:\n",
      "\n",
      "Minority class:   positive\n",
      "(1104, 9)\n",
      "Y shape: (1187,)\n",
      "with oversampling:  0.9663299663299664\n",
      "-----------------------------------\n",
      "leaf purity:  0.35\n",
      "without oversampling:  0.9663299663299664\n",
      "\n",
      "Oversampling on:\n",
      "\n",
      "Minority class:   positive\n",
      "(1104, 9)\n",
      "Y shape: (1187,)\n",
      "with oversampling:  0.9663299663299664\n",
      "-----------------------------------\n",
      "leaf purity:  0.4\n",
      "without oversampling:  0.9663299663299664\n",
      "\n",
      "Oversampling on:\n",
      "\n",
      "Minority class:   positive\n",
      "(1104, 9)\n",
      "Y shape: (1187,)\n",
      "with oversampling:  0.9663299663299664\n",
      "-----------------------------------\n",
      "leaf purity:  0.45\n",
      "without oversampling:  0.9663299663299664\n",
      "\n",
      "Oversampling on:\n",
      "\n",
      "Minority class:   positive\n",
      "(1104, 9)\n",
      "Y shape: (1187,)\n",
      "with oversampling:  0.9663299663299664\n",
      "-----------------------------------\n",
      "leaf purity:  0.5\n",
      "without oversampling:  0.9663299663299664\n",
      "\n",
      "Oversampling on:\n",
      "\n",
      "Minority class:   positive\n",
      "(1104, 9)\n",
      "Y shape: (1187,)\n",
      "with oversampling:  0.9663299663299664\n",
      "-----------------------------------\n",
      "leaf purity:  0.55\n",
      "without oversampling:  0.9663299663299664\n",
      "\n",
      "Oversampling on:\n",
      "\n",
      "Minority class:   positive\n",
      "(1104, 9)\n",
      "Y shape: (1187,)\n",
      "with oversampling:  0.9663299663299664\n",
      "-----------------------------------\n",
      "leaf purity:  0.6\n",
      "without oversampling:  0.9663299663299664\n",
      "\n",
      "Oversampling on:\n",
      "\n",
      "Minority class:   positive\n",
      "(1104, 9)\n",
      "Y shape: (1187,)\n",
      "with oversampling:  0.9663299663299664\n",
      "-----------------------------------\n",
      "leaf purity:  0.65\n",
      "without oversampling:  0.9663299663299664\n",
      "\n",
      "Oversampling on:\n",
      "\n",
      "Minority class:   positive\n",
      "(1104, 9)\n",
      "Y shape: (1187,)\n",
      "with oversampling:  0.9663299663299664\n",
      "-----------------------------------\n",
      "leaf purity:  0.7\n",
      "without oversampling:  0.9663299663299664\n",
      "\n",
      "Oversampling on:\n",
      "\n",
      "Minority class:   positive\n",
      "\n",
      "Ignore error messages below, highest purity limit reached\n",
      "\n",
      "\n",
      "\n"
     ]
    },
    {
     "ename": "ValueError",
     "evalue": "Expected 2D array, got 1D array instead:\narray=[].\nReshape your data either using array.reshape(-1, 1) if your data has a single feature or array.reshape(1, -1) if it contains a single sample.",
     "output_type": "error",
     "traceback": [
      "\u001b[1;31m---------------------------------------------------------------------------\u001b[0m",
      "\u001b[1;31mValueError\u001b[0m                                Traceback (most recent call last)",
      "\u001b[1;32m<ipython-input-10-2385c6badfa6>\u001b[0m in \u001b[0;36m<module>\u001b[1;34m()\u001b[0m\n\u001b[0;32m      3\u001b[0m     \u001b[0mn\u001b[0m\u001b[1;33m[\u001b[0m\u001b[0mi\u001b[0m\u001b[1;33m]\u001b[0m\u001b[1;33m=\u001b[0m\u001b[0mround\u001b[0m\u001b[1;33m(\u001b[0m\u001b[0mn\u001b[0m\u001b[1;33m[\u001b[0m\u001b[0mi\u001b[0m\u001b[1;33m]\u001b[0m\u001b[1;33m,\u001b[0m\u001b[1;36m2\u001b[0m\u001b[1;33m)\u001b[0m\u001b[1;33m\u001b[0m\u001b[0m\n\u001b[0;32m      4\u001b[0m     \u001b[0mprint\u001b[0m\u001b[1;33m(\u001b[0m\u001b[1;34m'leaf purity: '\u001b[0m\u001b[1;33m,\u001b[0m\u001b[0mn\u001b[0m\u001b[1;33m[\u001b[0m\u001b[0mi\u001b[0m\u001b[1;33m]\u001b[0m\u001b[1;33m)\u001b[0m\u001b[1;33m\u001b[0m\u001b[0m\n\u001b[1;32m----> 5\u001b[1;33m     \u001b[0mpred\u001b[0m\u001b[1;33m=\u001b[0m\u001b[0mClassify\u001b[0m\u001b[1;33m.\u001b[0m\u001b[0mClassify\u001b[0m\u001b[1;33m(\u001b[0m\u001b[1;34m'../NonSMOTE/NonSMOTE/yeast4/yeast4-5-fold/'\u001b[0m\u001b[1;33m,\u001b[0m\u001b[1;34m'yeast4-5-4tra.dat'\u001b[0m\u001b[1;33m,\u001b[0m                         \u001b[1;34m'yeast4-5-4tst.dat'\u001b[0m\u001b[1;33m,\u001b[0m\u001b[1;32mFalse\u001b[0m\u001b[1;33m,\u001b[0m\u001b[0mn\u001b[0m\u001b[1;33m[\u001b[0m\u001b[0mi\u001b[0m\u001b[1;33m]\u001b[0m\u001b[1;33m)\u001b[0m\u001b[1;33m\u001b[0m\u001b[0m\n\u001b[0m\u001b[0;32m      6\u001b[0m     \u001b[0mprint\u001b[0m\u001b[1;33m(\u001b[0m\u001b[1;34m'-----------------------------------'\u001b[0m\u001b[1;33m)\u001b[0m\u001b[1;33m\u001b[0m\u001b[0m\n",
      "\u001b[1;32m~\\Music\\Class Imbalance redo\\Code_V_1\\Classify.py\u001b[0m in \u001b[0;36mClassify\u001b[1;34m(location_of_data, train_data_name, test_data_name, smote_or_not, purity)\u001b[0m\n\u001b[0;32m     89\u001b[0m         \u001b[1;31m#--------------------------------------------------------------------------\u001b[0m\u001b[1;33m\u001b[0m\u001b[1;33m\u001b[0m\u001b[0m\n\u001b[0;32m     90\u001b[0m \u001b[1;33m\u001b[0m\u001b[0m\n\u001b[1;32m---> 91\u001b[1;33m         \u001b[0mgenerated_samples\u001b[0m\u001b[1;33m=\u001b[0m\u001b[0mOverSampling\u001b[0m\u001b[1;33m.\u001b[0m\u001b[0mOverSampling\u001b[0m\u001b[1;33m(\u001b[0m\u001b[0mlocation_of_data\u001b[0m\u001b[1;33m,\u001b[0m\u001b[0mtrain_data_name\u001b[0m\u001b[1;33m,\u001b[0m\u001b[0mpurity\u001b[0m\u001b[1;33m)\u001b[0m\u001b[1;33m\u001b[0m\u001b[0m\n\u001b[0m\u001b[0;32m     92\u001b[0m \u001b[1;33m\u001b[0m\u001b[0m\n\u001b[0;32m     93\u001b[0m         \u001b[0mprint\u001b[0m\u001b[1;33m(\u001b[0m\u001b[0mgenerated_samples\u001b[0m\u001b[1;33m.\u001b[0m\u001b[0mshape\u001b[0m\u001b[1;33m)\u001b[0m\u001b[1;33m\u001b[0m\u001b[0m\n",
      "\u001b[1;32m~\\Music\\Class Imbalance redo\\Code_V_1\\OverSampling.py\u001b[0m in \u001b[0;36mOverSampling\u001b[1;34m(location_of_data, train_data, purity)\u001b[0m\n\u001b[0;32m     87\u001b[0m     \u001b[1;31m#print('p_X_train: ',p_X_train.shape)\u001b[0m\u001b[1;33m\u001b[0m\u001b[1;33m\u001b[0m\u001b[0m\n\u001b[0;32m     88\u001b[0m \u001b[1;33m\u001b[0m\u001b[0m\n\u001b[1;32m---> 89\u001b[1;33m     \u001b[0mdic\u001b[0m\u001b[1;33m=\u001b[0m\u001b[0mDecisionRules\u001b[0m\u001b[1;33m.\u001b[0m\u001b[0mTree_path\u001b[0m\u001b[1;33m(\u001b[0m\u001b[0mbest_tree\u001b[0m\u001b[1;33m,\u001b[0m\u001b[0mp_X_train\u001b[0m\u001b[1;33m)\u001b[0m\u001b[1;33m\u001b[0m\u001b[0m\n\u001b[0m\u001b[0;32m     90\u001b[0m \u001b[1;33m\u001b[0m\u001b[0m\n\u001b[0;32m     91\u001b[0m     \u001b[0mmin_max_dic\u001b[0m\u001b[1;33m,\u001b[0m\u001b[0mgen_dic\u001b[0m\u001b[1;33m=\u001b[0m\u001b[0mTreePathDictionary\u001b[0m\u001b[1;33m.\u001b[0m\u001b[0msample_generation_dictionary\u001b[0m\u001b[1;33m(\u001b[0m\u001b[0mdic\u001b[0m\u001b[1;33m,\u001b[0m\u001b[0mX\u001b[0m\u001b[1;33m)\u001b[0m\u001b[1;33m\u001b[0m\u001b[0m\n",
      "\u001b[1;32m~\\Music\\Class Imbalance redo\\Code_V_1\\DecisionRules.py\u001b[0m in \u001b[0;36mTree_path\u001b[1;34m(tree, samples)\u001b[0m\n\u001b[0;32m     25\u001b[0m     \u001b[0mthreshold\u001b[0m\u001b[1;33m=\u001b[0m\u001b[0mtree\u001b[0m\u001b[1;33m.\u001b[0m\u001b[0mtree_\u001b[0m\u001b[1;33m.\u001b[0m\u001b[0mthreshold\u001b[0m\u001b[1;33m\u001b[0m\u001b[0m\n\u001b[0;32m     26\u001b[0m \u001b[1;33m\u001b[0m\u001b[0m\n\u001b[1;32m---> 27\u001b[1;33m     \u001b[0mdecision_paths\u001b[0m\u001b[1;33m=\u001b[0m\u001b[0mtree\u001b[0m\u001b[1;33m.\u001b[0m\u001b[0mdecision_path\u001b[0m\u001b[1;33m(\u001b[0m\u001b[0msamples\u001b[0m\u001b[1;33m)\u001b[0m\u001b[1;33m\u001b[0m\u001b[0m\n\u001b[0m\u001b[0;32m     28\u001b[0m \u001b[1;33m\u001b[0m\u001b[0m\n\u001b[0;32m     29\u001b[0m     \u001b[0mleave_ids\u001b[0m\u001b[1;33m=\u001b[0m\u001b[0mtree\u001b[0m\u001b[1;33m.\u001b[0m\u001b[0mapply\u001b[0m\u001b[1;33m(\u001b[0m\u001b[0msamples\u001b[0m\u001b[1;33m)\u001b[0m\u001b[1;33m\u001b[0m\u001b[0m\n",
      "\u001b[1;32mG:\\newage2\\envs\\tensorflow\\lib\\site-packages\\sklearn\\tree\\tree.py\u001b[0m in \u001b[0;36mdecision_path\u001b[1;34m(self, X, check_input)\u001b[0m\n\u001b[0;32m    508\u001b[0m \u001b[1;33m\u001b[0m\u001b[0m\n\u001b[0;32m    509\u001b[0m         \"\"\"\n\u001b[1;32m--> 510\u001b[1;33m         \u001b[0mX\u001b[0m \u001b[1;33m=\u001b[0m \u001b[0mself\u001b[0m\u001b[1;33m.\u001b[0m\u001b[0m_validate_X_predict\u001b[0m\u001b[1;33m(\u001b[0m\u001b[0mX\u001b[0m\u001b[1;33m,\u001b[0m \u001b[0mcheck_input\u001b[0m\u001b[1;33m)\u001b[0m\u001b[1;33m\u001b[0m\u001b[0m\n\u001b[0m\u001b[0;32m    511\u001b[0m         \u001b[1;32mreturn\u001b[0m \u001b[0mself\u001b[0m\u001b[1;33m.\u001b[0m\u001b[0mtree_\u001b[0m\u001b[1;33m.\u001b[0m\u001b[0mdecision_path\u001b[0m\u001b[1;33m(\u001b[0m\u001b[0mX\u001b[0m\u001b[1;33m)\u001b[0m\u001b[1;33m\u001b[0m\u001b[0m\n\u001b[0;32m    512\u001b[0m \u001b[1;33m\u001b[0m\u001b[0m\n",
      "\u001b[1;32mG:\\newage2\\envs\\tensorflow\\lib\\site-packages\\sklearn\\tree\\tree.py\u001b[0m in \u001b[0;36m_validate_X_predict\u001b[1;34m(self, X, check_input)\u001b[0m\n\u001b[0;32m    389\u001b[0m         \u001b[1;34m\"\"\"Validate X whenever one tries to predict, apply, predict_proba\"\"\"\u001b[0m\u001b[1;33m\u001b[0m\u001b[0m\n\u001b[0;32m    390\u001b[0m         \u001b[1;32mif\u001b[0m \u001b[0mcheck_input\u001b[0m\u001b[1;33m:\u001b[0m\u001b[1;33m\u001b[0m\u001b[0m\n\u001b[1;32m--> 391\u001b[1;33m             \u001b[0mX\u001b[0m \u001b[1;33m=\u001b[0m \u001b[0mcheck_array\u001b[0m\u001b[1;33m(\u001b[0m\u001b[0mX\u001b[0m\u001b[1;33m,\u001b[0m \u001b[0mdtype\u001b[0m\u001b[1;33m=\u001b[0m\u001b[0mDTYPE\u001b[0m\u001b[1;33m,\u001b[0m \u001b[0maccept_sparse\u001b[0m\u001b[1;33m=\u001b[0m\u001b[1;34m\"csr\"\u001b[0m\u001b[1;33m)\u001b[0m\u001b[1;33m\u001b[0m\u001b[0m\n\u001b[0m\u001b[0;32m    392\u001b[0m             if issparse(X) and (X.indices.dtype != np.intc or\n\u001b[0;32m    393\u001b[0m                                 X.indptr.dtype != np.intc):\n",
      "\u001b[1;32mG:\\newage2\\envs\\tensorflow\\lib\\site-packages\\sklearn\\utils\\validation.py\u001b[0m in \u001b[0;36mcheck_array\u001b[1;34m(array, accept_sparse, accept_large_sparse, dtype, order, copy, force_all_finite, ensure_2d, allow_nd, ensure_min_samples, ensure_min_features, warn_on_dtype, estimator)\u001b[0m\n\u001b[0;32m    519\u001b[0m                     \u001b[1;34m\"Reshape your data either using array.reshape(-1, 1) if \"\u001b[0m\u001b[1;33m\u001b[0m\u001b[0m\n\u001b[0;32m    520\u001b[0m                     \u001b[1;34m\"your data has a single feature or array.reshape(1, -1) \"\u001b[0m\u001b[1;33m\u001b[0m\u001b[0m\n\u001b[1;32m--> 521\u001b[1;33m                     \"if it contains a single sample.\".format(array))\n\u001b[0m\u001b[0;32m    522\u001b[0m \u001b[1;33m\u001b[0m\u001b[0m\n\u001b[0;32m    523\u001b[0m         \u001b[1;31m# in the future np.flexible dtypes will be handled like object dtypes\u001b[0m\u001b[1;33m\u001b[0m\u001b[1;33m\u001b[0m\u001b[0m\n",
      "\u001b[1;31mValueError\u001b[0m: Expected 2D array, got 1D array instead:\narray=[].\nReshape your data either using array.reshape(-1, 1) if your data has a single feature or array.reshape(1, -1) if it contains a single sample."
     ]
    }
   ],
   "source": [
    "for i in range(len(n)):\n",
    "    \n",
    "    n[i]=round(n[i],2)\n",
    "    print('leaf purity: ',n[i])\n",
    "    pred=Classify.Classify('../NonSMOTE/NonSMOTE/yeast4/yeast4-5-fold/','yeast4-5-4tra.dat',\\\n",
    "                         'yeast4-5-4tst.dat',False,n[i])\n",
    "    print('-----------------------------------')"
   ]
  },
  {
   "cell_type": "code",
   "execution_count": 6,
   "metadata": {
    "collapsed": true
   },
   "outputs": [],
   "source": [
    "a=[' pos',' pos',' pos',' pos',' pos',' pos',' neg',' neg',' neg',' neg',' neg',]"
   ]
  },
  {
   "cell_type": "code",
   "execution_count": 28,
   "metadata": {
    "collapsed": true
   },
   "outputs": [],
   "source": [
    "cls=np.unique(a,return_counts=True)"
   ]
  },
  {
   "cell_type": "code",
   "execution_count": 29,
   "metadata": {},
   "outputs": [
    {
     "data": {
      "text/plain": [
       "array([' neg', ' pos'], dtype='<U4')"
      ]
     },
     "execution_count": 29,
     "metadata": {},
     "output_type": "execute_result"
    }
   ],
   "source": [
    "cls[0]"
   ]
  },
  {
   "cell_type": "code",
   "execution_count": 30,
   "metadata": {},
   "outputs": [
    {
     "data": {
      "text/plain": [
       "array([5, 6], dtype=int64)"
      ]
     },
     "execution_count": 30,
     "metadata": {},
     "output_type": "execute_result"
    }
   ],
   "source": [
    "cls[1]"
   ]
  },
  {
   "cell_type": "code",
   "execution_count": 31,
   "metadata": {},
   "outputs": [
    {
     "data": {
      "text/plain": [
       "(array([' neg', ' pos'], dtype='<U4'), array([5, 6], dtype=int64))"
      ]
     },
     "execution_count": 31,
     "metadata": {},
     "output_type": "execute_result"
    }
   ],
   "source": [
    "cls"
   ]
  },
  {
   "cell_type": "code",
   "execution_count": 32,
   "metadata": {},
   "outputs": [
    {
     "name": "stdout",
     "output_type": "stream",
     "text": [
      " neg\n"
     ]
    }
   ],
   "source": [
    "if cls[1][0]<cls[1][1]:\n",
    "    print(cls[0][0])\n",
    "else:\n",
    "    print(cls[0][1])"
   ]
  },
  {
   "cell_type": "code",
   "execution_count": 33,
   "metadata": {
    "collapsed": true
   },
   "outputs": [],
   "source": [
    "a=np.array(a)"
   ]
  },
  {
   "cell_type": "code",
   "execution_count": 34,
   "metadata": {},
   "outputs": [
    {
     "data": {
      "text/plain": [
       "array([' pos', ' pos', ' pos', ' pos', ' pos', ' pos', ' neg', ' neg',\n",
       "       ' neg', ' neg', ' neg'], dtype='<U4')"
      ]
     },
     "execution_count": 34,
     "metadata": {},
     "output_type": "execute_result"
    }
   ],
   "source": [
    "a"
   ]
  },
  {
   "cell_type": "code",
   "execution_count": 35,
   "metadata": {
    "collapsed": true
   },
   "outputs": [],
   "source": [
    "pos=0\n",
    "neg=0\n",
    "\n",
    "for i in range(a.shape[0]):\n",
    "    if a[i]==' pos':\n",
    "        pos=pos+1\n",
    "    else:\n",
    "        neg=neg+1"
   ]
  },
  {
   "cell_type": "code",
   "execution_count": 36,
   "metadata": {},
   "outputs": [
    {
     "data": {
      "text/plain": [
       "6"
      ]
     },
     "execution_count": 36,
     "metadata": {},
     "output_type": "execute_result"
    }
   ],
   "source": [
    "pos"
   ]
  },
  {
   "cell_type": "code",
   "execution_count": 37,
   "metadata": {},
   "outputs": [
    {
     "data": {
      "text/plain": [
       "5"
      ]
     },
     "execution_count": 37,
     "metadata": {},
     "output_type": "execute_result"
    }
   ],
   "source": [
    "neg"
   ]
  }
 ],
 "metadata": {
  "kernelspec": {
   "display_name": "Python 3",
   "language": "python",
   "name": "python3"
  },
  "language_info": {
   "codemirror_mode": {
    "name": "ipython",
    "version": 3
   },
   "file_extension": ".py",
   "mimetype": "text/x-python",
   "name": "python",
   "nbconvert_exporter": "python",
   "pygments_lexer": "ipython3",
   "version": "3.6.6"
  }
 },
 "nbformat": 4,
 "nbformat_minor": 2
}
