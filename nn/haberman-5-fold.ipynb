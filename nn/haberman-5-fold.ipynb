{
 "cells": [
  {
   "cell_type": "code",
   "execution_count": 1,
   "metadata": {
    "collapsed": true
   },
   "outputs": [],
   "source": [
    "import Classify"
   ]
  },
  {
   "cell_type": "code",
   "execution_count": 2,
   "metadata": {
    "collapsed": true
   },
   "outputs": [],
   "source": [
    "import numpy as np"
   ]
  },
  {
   "cell_type": "code",
   "execution_count": 5,
   "metadata": {
    "collapsed": true
   },
   "outputs": [],
   "source": [
    "n=np.arange(0.0,1.01,0.05)"
   ]
  },
  {
   "cell_type": "code",
   "execution_count": null,
   "metadata": {
    "collapsed": true
   },
   "outputs": [],
   "source": []
  },
  {
   "cell_type": "code",
   "execution_count": null,
   "metadata": {},
   "outputs": [
    {
     "name": "stdout",
     "output_type": "stream",
     "text": [
      "leaf purity:  0.0\n",
      "without oversampling KNN:  0.7213114754098361\n",
      "\n",
      "Oversampling on:\n",
      "\n",
      "Minority class:   positive\n",
      "(116, 4)\n",
      "with oversampling KNN:  0.6229508196721312\n",
      "-----------------------------------\n",
      "leaf purity:  0.05\n",
      "without oversampling KNN:  0.7213114754098361\n",
      "\n",
      "Oversampling on:\n",
      "\n",
      "Minority class:   positive\n",
      "(116, 4)\n",
      "with oversampling KNN:  0.6229508196721312\n",
      "-----------------------------------\n",
      "leaf purity:  0.1\n",
      "without oversampling KNN:  0.7213114754098361\n",
      "\n",
      "Oversampling on:\n",
      "\n",
      "Minority class:   positive\n",
      "(116, 4)\n",
      "with oversampling KNN:  0.6229508196721312\n",
      "-----------------------------------\n",
      "leaf purity:  0.15\n"
     ]
    }
   ],
   "source": [
    "for i in range(len(n)):\n",
    "    \n",
    "    n[i]=round(n[i],2)\n",
    "    print('leaf purity: ',n[i])\n",
    "    pred=Classify.Classify('../Data_tsai/NonSMOTE/haberman/haberman-5-fold/','haberman-5-3tra.dat',\\\n",
    "                         'haberman-5-3tst.dat',False,n[i])\n",
    "    print('-----------------------------------')"
   ]
  },
  {
   "cell_type": "code",
   "execution_count": null,
   "metadata": {
    "collapsed": true
   },
   "outputs": [],
   "source": []
  }
 ],
 "metadata": {
  "kernelspec": {
   "display_name": "Python 3",
   "language": "python",
   "name": "python3"
  },
  "language_info": {
   "codemirror_mode": {
    "name": "ipython",
    "version": 3
   },
   "file_extension": ".py",
   "mimetype": "text/x-python",
   "name": "python",
   "nbconvert_exporter": "python",
   "pygments_lexer": "ipython3",
   "version": "3.6.6"
  }
 },
 "nbformat": 4,
 "nbformat_minor": 2
}
